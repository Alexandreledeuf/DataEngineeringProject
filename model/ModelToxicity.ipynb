{
 "cells": [
  {
   "cell_type": "code",
   "execution_count": 14,
   "id": "2d11ea33",
   "metadata": {},
   "outputs": [
    {
     "name": "stdout",
     "output_type": "stream",
     "text": [
      "Collecting detoxify\n",
      "  Downloading detoxify-0.4.0-py3-none-any.whl (11 kB)\n",
      "Requirement already satisfied: torch>=1.7.0 in c:\\users\\ledeu\\anaconda3\\envs\\travail\\lib\\site-packages (from detoxify) (1.10.2)\n",
      "Requirement already satisfied: transformers>=3.2.0 in c:\\users\\ledeu\\anaconda3\\envs\\travail\\lib\\site-packages (from detoxify) (4.16.2)\n",
      "Collecting sentencepiece>=0.1.94\n",
      "  Downloading sentencepiece-0.1.96-cp38-cp38-win_amd64.whl (1.1 MB)\n",
      "Requirement already satisfied: typing-extensions in c:\\users\\ledeu\\anaconda3\\envs\\travail\\lib\\site-packages (from torch>=1.7.0->detoxify) (4.0.1)\n",
      "Requirement already satisfied: filelock in c:\\users\\ledeu\\anaconda3\\envs\\travail\\lib\\site-packages (from transformers>=3.2.0->detoxify) (3.4.2)\n",
      "Requirement already satisfied: tokenizers!=0.11.3,>=0.10.1 in c:\\users\\ledeu\\anaconda3\\envs\\travail\\lib\\site-packages (from transformers>=3.2.0->detoxify) (0.11.4)\n",
      "Requirement already satisfied: huggingface-hub<1.0,>=0.1.0 in c:\\users\\ledeu\\anaconda3\\envs\\travail\\lib\\site-packages (from transformers>=3.2.0->detoxify) (0.4.0)\n",
      "Requirement already satisfied: regex!=2019.12.17 in c:\\users\\ledeu\\anaconda3\\envs\\travail\\lib\\site-packages (from transformers>=3.2.0->detoxify) (2022.1.18)\n",
      "Requirement already satisfied: packaging>=20.0 in c:\\users\\ledeu\\anaconda3\\envs\\travail\\lib\\site-packages (from transformers>=3.2.0->detoxify) (21.3)\n",
      "Requirement already satisfied: sacremoses in c:\\users\\ledeu\\anaconda3\\envs\\travail\\lib\\site-packages (from transformers>=3.2.0->detoxify) (0.0.47)\n",
      "Requirement already satisfied: requests in c:\\users\\ledeu\\anaconda3\\envs\\travail\\lib\\site-packages (from transformers>=3.2.0->detoxify) (2.27.1)\n",
      "Requirement already satisfied: pyyaml>=5.1 in c:\\users\\ledeu\\anaconda3\\envs\\travail\\lib\\site-packages (from transformers>=3.2.0->detoxify) (6.0)\n",
      "Requirement already satisfied: numpy>=1.17 in c:\\users\\ledeu\\anaconda3\\envs\\travail\\lib\\site-packages (from transformers>=3.2.0->detoxify) (1.22.1)\n",
      "Requirement already satisfied: tqdm>=4.27 in c:\\users\\ledeu\\anaconda3\\envs\\travail\\lib\\site-packages (from transformers>=3.2.0->detoxify) (4.62.3)\n",
      "Requirement already satisfied: pyparsing!=3.0.5,>=2.0.2 in c:\\users\\ledeu\\anaconda3\\envs\\travail\\lib\\site-packages (from packaging>=20.0->transformers>=3.2.0->detoxify) (3.0.7)\n",
      "Requirement already satisfied: colorama in c:\\users\\ledeu\\anaconda3\\envs\\travail\\lib\\site-packages (from tqdm>=4.27->transformers>=3.2.0->detoxify) (0.4.4)\n",
      "Requirement already satisfied: idna<4,>=2.5 in c:\\users\\ledeu\\anaconda3\\envs\\travail\\lib\\site-packages (from requests->transformers>=3.2.0->detoxify) (3.3)\n",
      "Requirement already satisfied: urllib3<1.27,>=1.21.1 in c:\\users\\ledeu\\anaconda3\\envs\\travail\\lib\\site-packages (from requests->transformers>=3.2.0->detoxify) (1.26.8)\n",
      "Requirement already satisfied: certifi>=2017.4.17 in c:\\users\\ledeu\\anaconda3\\envs\\travail\\lib\\site-packages (from requests->transformers>=3.2.0->detoxify) (2021.10.8)\n",
      "Requirement already satisfied: charset-normalizer~=2.0.0 in c:\\users\\ledeu\\anaconda3\\envs\\travail\\lib\\site-packages (from requests->transformers>=3.2.0->detoxify) (2.0.10)\n",
      "Requirement already satisfied: click in c:\\users\\ledeu\\anaconda3\\envs\\travail\\lib\\site-packages (from sacremoses->transformers>=3.2.0->detoxify) (8.0.3)\n",
      "Requirement already satisfied: joblib in c:\\users\\ledeu\\anaconda3\\envs\\travail\\lib\\site-packages (from sacremoses->transformers>=3.2.0->detoxify) (1.1.0)\n",
      "Requirement already satisfied: six in c:\\users\\ledeu\\anaconda3\\envs\\travail\\lib\\site-packages (from sacremoses->transformers>=3.2.0->detoxify) (1.16.0)\n",
      "Installing collected packages: sentencepiece, detoxify\n",
      "Successfully installed detoxify-0.4.0 sentencepiece-0.1.96\n",
      "Note: you may need to restart the kernel to use updated packages.\n"
     ]
    }
   ],
   "source": [
    "#pip install detoxify"
   ]
  },
  {
   "cell_type": "code",
   "execution_count": 41,
   "id": "88d65e7b",
   "metadata": {},
   "outputs": [],
   "source": [
    "import pandas as pd\n",
    "from detoxify import Detoxify\n",
    "\n",
    "results = Detoxify('original').predict('i will hit you in the face')\n",
    "input_text=\"resultat\"\n",
    "df = pd.DataFrame(results, index=[input_text]).round(4)"
   ]
  },
  {
   "cell_type": "code",
   "execution_count": 62,
   "id": "82bff4ff",
   "metadata": {},
   "outputs": [
    {
     "name": "stdout",
     "output_type": "stream",
     "text": [
      "['toxicity', 'severe_toxicity', 'obscene', 'threat', 'insult', 'identity_attack']\n",
      "[87.36, 11.15, 7.68, 86.27, 10.37, 4.31]\n"
     ]
    }
   ],
   "source": [
    "df_list = df.iloc[[0]].values.tolist()\n",
    "df_column_list = df.columns.tolist()\n",
    "liste_resultat = df_list[0]\n",
    "for i in range(len(liste_resultat)):\n",
    "    liste_resultat[i] = round(liste_resultat[i],4)*100\n",
    "\n",
    "print(df_column_list)\n",
    "print(liste_resultat)"
   ]
  },
  {
   "cell_type": "code",
   "execution_count": null,
   "id": "d9db792b",
   "metadata": {},
   "outputs": [],
   "source": []
  }
 ],
 "metadata": {
  "kernelspec": {
   "display_name": "Python 3 (ipykernel)",
   "language": "python",
   "name": "python3"
  },
  "language_info": {
   "codemirror_mode": {
    "name": "ipython",
    "version": 3
   },
   "file_extension": ".py",
   "mimetype": "text/x-python",
   "name": "python",
   "nbconvert_exporter": "python",
   "pygments_lexer": "ipython3",
   "version": "3.8.12"
  }
 },
 "nbformat": 4,
 "nbformat_minor": 5
}
